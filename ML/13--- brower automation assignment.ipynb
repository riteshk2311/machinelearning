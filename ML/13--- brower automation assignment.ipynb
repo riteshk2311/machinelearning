{
 "cells": [
  {
   "cell_type": "code",
   "execution_count": 4,
   "metadata": {},
   "outputs": [],
   "source": [
    "from selenium import webdriver\n",
    "driver = webdriver.Chrome(\"./chromedriver.exe\")"
   ]
  },
  {
   "cell_type": "code",
   "execution_count": 12,
   "metadata": {},
   "outputs": [],
   "source": [
    "driver.get(\"https://www.facebook.com/\")"
   ]
  },
  {
   "cell_type": "code",
   "execution_count": 6,
   "metadata": {},
   "outputs": [],
   "source": [
    "driver.find_element_by_name(\"email\").send_keys(\"ajeet.rajpoot.566\")\n",
    "driver.find_element_by_name(\"pass\").send_keys(\"ajeet@#23\")\n",
    "driver.find_element_by_id(\"loginbutton\").click()"
   ]
  },
  {
   "cell_type": "code",
   "execution_count": 13,
   "metadata": {},
   "outputs": [],
   "source": [
    "driver.find_element_by_xpath(\"//span[@class='_1vp5']\").click()"
   ]
  },
  {
   "cell_type": "code",
   "execution_count": 14,
   "metadata": {},
   "outputs": [],
   "source": [
    "driver.find_element_by_xpath(\"//a[@data-tab-key = 'friends']\").click()"
   ]
  },
  {
   "cell_type": "code",
   "execution_count": 16,
   "metadata": {
    "scrolled": false
   },
   "outputs": [
    {
     "ename": "TypeError",
     "evalue": "'WebElement' object is not iterable",
     "output_type": "error",
     "traceback": [
      "\u001b[1;31m---------------------------------------------------------------------------\u001b[0m",
      "\u001b[1;31mTypeError\u001b[0m                                 Traceback (most recent call last)",
      "\u001b[1;32m<ipython-input-16-eee9e707b6a2>\u001b[0m in \u001b[0;36m<module>\u001b[1;34m\u001b[0m\n\u001b[0;32m     10\u001b[0m     \u001b[1;32mexcept\u001b[0m \u001b[0mException\u001b[0m\u001b[1;33m:\u001b[0m\u001b[1;33m\u001b[0m\u001b[1;33m\u001b[0m\u001b[0m\n\u001b[0;32m     11\u001b[0m         \u001b[0mprofile\u001b[0m  \u001b[1;33m=\u001b[0m \u001b[0mdriver\u001b[0m\u001b[1;33m.\u001b[0m\u001b[0mfind_element_by_xpath\u001b[0m\u001b[1;33m(\u001b[0m\u001b[1;34m\"//div[@data-testid='friend_list_item']/a\"\u001b[0m\u001b[1;33m)\u001b[0m\u001b[1;33m\u001b[0m\u001b[1;33m\u001b[0m\u001b[0m\n\u001b[1;32m---> 12\u001b[1;33m     \u001b[1;32mfor\u001b[0m \u001b[0mprofilePic\u001b[0m \u001b[1;32min\u001b[0m \u001b[0mprofile\u001b[0m\u001b[1;33m:\u001b[0m\u001b[1;33m\u001b[0m\u001b[1;33m\u001b[0m\u001b[0m\n\u001b[0m\u001b[0;32m     13\u001b[0m         \u001b[0mprofileURL\u001b[0m \u001b[1;33m=\u001b[0m \u001b[0mprofilePic\u001b[0m\u001b[1;33m.\u001b[0m\u001b[0mget_attribute\u001b[0m\u001b[1;33m(\u001b[0m\u001b[1;34m\"href\"\u001b[0m\u001b[1;33m)\u001b[0m\u001b[1;33m\u001b[0m\u001b[1;33m\u001b[0m\u001b[0m\n\u001b[0;32m     14\u001b[0m         \u001b[0mfinalName\u001b[0m \u001b[1;33m=\u001b[0m \u001b[1;34m\"\"\u001b[0m\u001b[1;33m\u001b[0m\u001b[1;33m\u001b[0m\u001b[0m\n",
      "\u001b[1;31mTypeError\u001b[0m: 'WebElement' object is not iterable"
     ]
    }
   ],
   "source": [
    "import time\n",
    "from selenium.webdriver.common.keys import Keys\n",
    "listProfileName = []\n",
    "movie = False\n",
    "time.sleep(5)\n",
    "while movie == False:\n",
    "    try:\n",
    "        movieEle = driver.find_element_by_xpath(\"//a[text()='Films']\")\n",
    "        break\n",
    "    except Exception:\n",
    "        profile  = driver.find_element_by_xpath(\"//div[@data-testid='friend_list_item']/a\")\n",
    "    for profilePic in profile:\n",
    "        profileURL = profilePic.get_attribute(\"href\")\n",
    "        finalName = \"\"\n",
    "        if (profileURL.find(\"profile.php?id=\")== -1):\n",
    "            finalName = profileURL[profileURL.find(\".com/\") + len(\".com/\") : profileURL.find(\"?\")]\n",
    "        else:\n",
    "            finalName = profileURL[profileURL.find(\"profile.php?id=\") + len(\"profile.php?id=\") : profileURL.find(\"&\")]\n",
    "    print(finalName)\n",
    "listProfleName.append(finalName)\n",
    "profile[len(profile)-1].send_keys(Keys.CONTROL+\"\"+Keys.END)\n",
    "msg = \"https://www.facebook.com/messages/t/\"\n",
    "for item in listProfileName :\n",
    "    driver.get(\"https://www.facebook.com/messages/t/{un}\".format(un=item))\n",
    "    driver.switch_to_active_element().send_keys(\"hello \\n it's an computer generated message \\n please don't reply back \\n\")\n",
    "    time.sleep(1)\n",
    "driver.quit()\n"
   ]
  },
  {
   "cell_type": "code",
   "execution_count": null,
   "metadata": {},
   "outputs": [],
   "source": []
  }
 ],
 "metadata": {
  "kernelspec": {
   "display_name": "Python 3",
   "language": "python",
   "name": "python3"
  },
  "language_info": {
   "codemirror_mode": {
    "name": "ipython",
    "version": 3
   },
   "file_extension": ".py",
   "mimetype": "text/x-python",
   "name": "python",
   "nbconvert_exporter": "python",
   "pygments_lexer": "ipython3",
   "version": "3.7.3"
  }
 },
 "nbformat": 4,
 "nbformat_minor": 2
}

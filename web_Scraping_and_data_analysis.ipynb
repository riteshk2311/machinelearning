{
  "nbformat": 4,
  "nbformat_minor": 0,
  "metadata": {
    "kernelspec": {
      "display_name": "Python 3",
      "language": "python",
      "name": "python3"
    },
    "language_info": {
      "codemirror_mode": {
        "name": "ipython",
        "version": 3
      },
      "file_extension": ".py",
      "mimetype": "text/x-python",
      "name": "python",
      "nbconvert_exporter": "python",
      "pygments_lexer": "ipython3",
      "version": "3.6.8"
    },
    "colab": {
      "name": "web Scraping and data analysis.ipynb",
      "provenance": [],
      "include_colab_link": true
    }
  },
  "cells": [
    {
      "cell_type": "markdown",
      "metadata": {
        "id": "view-in-github",
        "colab_type": "text"
      },
      "source": [
        "<a href=\"https://colab.research.google.com/github/riteshk2311/machinelearning/blob/master/web_Scraping_and_data_analysis.ipynb\" target=\"_parent\"><img src=\"https://colab.research.google.com/assets/colab-badge.svg\" alt=\"Open In Colab\"/></a>"
      ]
    },
    {
      "cell_type": "code",
      "metadata": {
        "id": "KB43JliVyPZE",
        "colab_type": "code",
        "colab": {}
      },
      "source": [
        "from selenium import webdriver\n",
        "from bs4 import BeautifulSoup\n",
        "import pandas as pd"
      ],
      "execution_count": null,
      "outputs": []
    },
    {
      "cell_type": "code",
      "metadata": {
        "id": "3j95aGGqyPZH",
        "colab_type": "code",
        "colab": {}
      },
      "source": [
        "df = pd.DataFrame(columns=[\"Title\", \"Location\", \"Company\", \n",
        "                           \"Salary\", \"Sponsored\"])"
      ],
      "execution_count": null,
      "outputs": []
    },
    {
      "cell_type": "code",
      "metadata": {
        "id": "p6MBdt-hyPZJ",
        "colab_type": "code",
        "colab": {}
      },
      "source": [
        "driver = webdriver.Chrome(\"/Users/techsim/Downloads/chromedriver\")"
      ],
      "execution_count": null,
      "outputs": []
    },
    {
      "cell_type": "code",
      "metadata": {
        "id": "PQ9TmwEqyPZL",
        "colab_type": "code",
        "colab": {}
      },
      "source": [
        "from time import sleep\n",
        "for i in range(0, 500, 10):\n",
        "    driver.get(\"https://www.indeed.co.in/jobs?q=artificial+intelligence&l=India&start=\"+str(i))\n",
        "    titles = []\n",
        "    locations = []\n",
        "    companys = []\n",
        "    salarys = []\n",
        "    sponsoreds = []\n",
        "    sleep(5)\n",
        "    elements = driver.find_elements_by_class_name(\"result\")\n",
        "    for job in elements:\n",
        "        soup = BeautifulSoup(job.get_attribute(\"innerHTML\"), 'html.parser')\n",
        "        try:\n",
        "            title = soup.find(\"a\", class_=\"jobtitle\").text.replace(\"\\n\",\"\").strip()\n",
        "            titles.append(title)\n",
        "        except:\n",
        "            title = None\n",
        "            titles.append(title)\n",
        "        \n",
        "        try:\n",
        "            location = soup.find( class_=\"location\").text.replace(\"\\n\",\"\").strip()\n",
        "            locations.append(location)\n",
        "        except:\n",
        "            location = None\n",
        "            locations.append(location)\n",
        "        \n",
        "        try:\n",
        "            company = soup.find(class_=\"company\").text.replace(\"\\n\",\"\").strip()\n",
        "            companys.append(company)\n",
        "        except:\n",
        "            company = None\n",
        "            companys.append(company)\n",
        "        \n",
        "        try:\n",
        "            salary = soup.find( class_=\"salary\").text.replace(\"\\n\",\"\").strip()\n",
        "            salarys.append(salary)\n",
        "        except:\n",
        "            salary = None\n",
        "            salarys.append(salary)\n",
        "        \n",
        "        try:\n",
        "            sponsored = soup.find(class_=\"sponsoredGray\").text.replace(\"\\n\",\"\").strip()\n",
        "            sponsored = \"sponsored\"\n",
        "            sponsoreds.append(sponsored)\n",
        "        except:\n",
        "            sponsored = None\n",
        "            sponsoreds.append(sponsored)\n",
        "        \n",
        "df = pd.DataFrame({\n",
        "    \"Title\":titles,\n",
        "    \"Location\":locations,\n",
        "    \"Company\":companys,\n",
        "    \"Salary\":salarys,\n",
        "    \"Sponsored\":sponsoreds\n",
        "})\n",
        "df.to_csv(\"ai.csv\")\n",
        "\n",
        "      \n",
        "    \n",
        "    \n",
        "    "
      ],
      "execution_count": null,
      "outputs": []
    },
    {
      "cell_type": "code",
      "metadata": {
        "id": "x72KkLcRyPZN",
        "colab_type": "code",
        "colab": {}
      },
      "source": [
        "df1 = pd.read_csv(\"./machinelearning.csv\")\n",
        "df2 = pd.read_csv(\"./new_ai.csv\")\n",
        "df3 = pd.read_csv(\"./data_analyst.csv\")\n",
        "df4 = pd.read_csv(\"./datascience2.csv\")"
      ],
      "execution_count": null,
      "outputs": []
    },
    {
      "cell_type": "code",
      "metadata": {
        "id": "iMh_O1ZXyPZP",
        "colab_type": "code",
        "colab": {}
      },
      "source": [
        "df = pd.concat([df1, df2, df3, df4], axis=0).drop_duplicates()"
      ],
      "execution_count": null,
      "outputs": []
    },
    {
      "cell_type": "code",
      "metadata": {
        "id": "8qicRqAjyPZR",
        "colab_type": "code",
        "colab": {},
        "outputId": "541d0401-f210-4d37-bd7e-fb5df4ede231"
      },
      "source": [
        "df.shape"
      ],
      "execution_count": null,
      "outputs": [
        {
          "output_type": "execute_result",
          "data": {
            "text/plain": [
              "(1384, 6)"
            ]
          },
          "metadata": {
            "tags": []
          },
          "execution_count": 74
        }
      ]
    },
    {
      "cell_type": "code",
      "metadata": {
        "id": "eJvdblkByPZT",
        "colab_type": "code",
        "colab": {},
        "outputId": "d4914b94-188a-4fdb-f2c8-7859b2d6c4c7"
      },
      "source": [
        "df[\"Sponsored\"].value_counts()"
      ],
      "execution_count": null,
      "outputs": [
        {
          "output_type": "execute_result",
          "data": {
            "text/plain": [
              "Organic      1207\n",
              "Sponsored     177\n",
              "Name: Sponsored, dtype: int64"
            ]
          },
          "metadata": {
            "tags": []
          },
          "execution_count": 75
        }
      ]
    },
    {
      "cell_type": "code",
      "metadata": {
        "id": "eSnN1u-PyPZV",
        "colab_type": "code",
        "colab": {},
        "outputId": "6ef86f7e-26a4-41bd-c268-eeb687843275"
      },
      "source": [
        "import matplotlib.pyplot as plt\n",
        "g = df.groupby(\"Company\")\n",
        "value = g.count()[\"Title\"].sort_values(ascending = False)[:10]\n",
        "v = value.values\n",
        "v\n",
        "value.plot(\"bar\", figsize = (20, 5))\n",
        "plt.show()\n"
      ],
      "execution_count": null,
      "outputs": [
        {
          "output_type": "display_data",
          "data": {
            "image/png": "[encoded data removed]",
            "text/plain": [
              "<Figure size 1440x360 with 1 Axes>"
            ]
          },
          "metadata": {
            "tags": [],
            "needs_background": "light"
          }
        }
      ]
    },
    {
      "cell_type": "code",
      "metadata": {
        "id": "2YCjULajyPZX",
        "colab_type": "code",
        "colab": {}
      },
      "source": [
        "import nltk\n",
        "from nltk import word_tokenize\n",
        "from nltk.corpus import stopwords\n",
        "stop_words = stopwords.words(\"english\")\n",
        "\n"
      ],
      "execution_count": null,
      "outputs": []
    },
    {
      "cell_type": "code",
      "metadata": {
        "id": "x4Q3ciTXyPZZ",
        "colab_type": "code",
        "colab": {}
      },
      "source": [
        "def CleanData(desc):\n",
        "    desc = word_tokenize(desc)\n",
        "    data = []\n",
        "    for word in desc:\n",
        "        lower = word.lower()\n",
        "        if lower not in stop_words:\n",
        "            data.append(lower)\n",
        "    return data\n",
        "            \n",
        "            "
      ],
      "execution_count": null,
      "outputs": []
    },
    {
      "cell_type": "code",
      "metadata": {
        "id": "TiHIUkxyyPZb",
        "colab_type": "code",
        "colab": {}
      },
      "source": [
        "tags_df = df[\"Description\"].apply(CleanData)"
      ],
      "execution_count": null,
      "outputs": []
    },
    {
      "cell_type": "code",
      "metadata": {
        "id": "IrnK5gznyPZd",
        "colab_type": "code",
        "colab": {}
      },
      "source": [
        "from collections import Counter\n",
        "result = tags_df.apply(Counter).sum().items()\n",
        "result = sorted(result, key = lambda kv: kv[1], reverse=True)\n",
        "result_series = pd.Series(\n",
        "{\n",
        "  k:v  for k, v in result\n",
        "})"
      ],
      "execution_count": null,
      "outputs": []
    },
    {
      "cell_type": "markdown",
      "metadata": {
        "id": "zkcZ_poZyPZf",
        "colab_type": "raw"
      },
      "source": [
        "result_series"
      ]
    },
    {
      "cell_type": "code",
      "metadata": {
        "id": "WoRTXWReyPZf",
        "colab_type": "code",
        "colab": {}
      },
      "source": [
        "skills = [\"opencv\", \"pandas\", \"nltk\", \"matplotlib\", \"django\", \"math\"]"
      ],
      "execution_count": null,
      "outputs": []
    },
    {
      "cell_type": "code",
      "metadata": {
        "id": "ljZrH_m6yPZh",
        "colab_type": "code",
        "colab": {},
        "outputId": "5d904caa-e420-4034-e81a-97d94e0dbf38"
      },
      "source": [
        "filter1 = result_series.filter(items=skills)\n",
        "filter1.plot('bar', figsize = (20, 5))\n",
        "plt.show()"
      ],
      "execution_count": null,
      "outputs": [
        {
          "output_type": "display_data",
          "data": {
            "image/png": "[encoded data removed]",
            "text/plain": [
              "<Figure size 1440x360 with 1 Axes>"
            ]
          },
          "metadata": {
            "tags": [],
            "needs_background": "light"
          }
        }
      ]
    },
    {
      "cell_type": "code",
      "metadata": {
        "id": "DzkGTD_EyPZk",
        "colab_type": "code",
        "colab": {}
      },
      "source": [
        ""
      ],
      "execution_count": null,
      "outputs": []
    }
  ]
}
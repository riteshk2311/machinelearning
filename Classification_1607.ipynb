{
  "nbformat": 4,
  "nbformat_minor": 0,
  "metadata": {
    "colab": {
      "name": "Classification 1607.ipynb",
      "provenance": [],
      "collapsed_sections": [],
      "include_colab_link": true
    },
    "kernelspec": {
      "name": "python3",
      "display_name": "Python 3"
    }
  },
  "cells": [
    {
      "cell_type": "markdown",
      "metadata": {
        "id": "view-in-github",
        "colab_type": "text"
      },
      "source": [
        "<a href=\"https://colab.research.google.com/github/riteshk2311/machinelearning/blob/master/Classification_1607.ipynb\" target=\"_parent\"><img src=\"https://colab.research.google.com/assets/colab-badge.svg\" alt=\"Open In Colab\"/></a>"
      ]
    },
    {
      "cell_type": "markdown",
      "metadata": {
        "id": "vljvfI77N0ir",
        "colab_type": "text"
      },
      "source": [
        "#SGD CLASSIFIER"
      ]
    },
    {
      "cell_type": "code",
      "metadata": {
        "id": "67xEVS7aEItz",
        "colab_type": "code",
        "colab": {}
      },
      "source": [
        "from sklearn import datasets"
      ],
      "execution_count": null,
      "outputs": []
    },
    {
      "cell_type": "code",
      "metadata": {
        "id": "98eBjrqSENgf",
        "colab_type": "code",
        "colab": {}
      },
      "source": [
        "mnist=datasets.fetch_openml(\"mnist_784\")"
      ],
      "execution_count": null,
      "outputs": []
    },
    {
      "cell_type": "code",
      "metadata": {
        "id": "CmeJy7JIEZv7",
        "colab_type": "code",
        "colab": {
          "base_uri": "https://localhost:8080/",
          "height": 35
        },
        "outputId": "26ac80f8-d6f9-467b-944a-53a3a4dee4e5"
      },
      "source": [
        "mnist.keys()"
      ],
      "execution_count": null,
      "outputs": [
        {
          "output_type": "execute_result",
          "data": {
            "text/plain": [
              "dict_keys(['data', 'target', 'feature_names', 'DESCR', 'details', 'categories', 'url'])"
            ]
          },
          "metadata": {
            "tags": []
          },
          "execution_count": 3
        }
      ]
    },
    {
      "cell_type": "code",
      "metadata": {
        "id": "HdKpUeitFVSA",
        "colab_type": "code",
        "colab": {}
      },
      "source": [
        "import numpy as np\n",
        "mnist.target=mnist.target.astype(np.int8) #to convert string into int "
      ],
      "execution_count": null,
      "outputs": []
    },
    {
      "cell_type": "code",
      "metadata": {
        "id": "EE9yl6V2JcwJ",
        "colab_type": "code",
        "colab": {}
      },
      "source": [
        "x=mnist.data\n",
        "y=mnist.target\n"
      ],
      "execution_count": null,
      "outputs": []
    },
    {
      "cell_type": "code",
      "metadata": {
        "id": "FcBtBflsJ8gX",
        "colab_type": "code",
        "colab": {
          "base_uri": "https://localhost:8080/",
          "height": 35
        },
        "outputId": "4ca1970a-d564-4f71-8edd-bc0f8ddf1065"
      },
      "source": [
        "y.shape"
      ],
      "execution_count": null,
      "outputs": [
        {
          "output_type": "execute_result",
          "data": {
            "text/plain": [
              "(70000,)"
            ]
          },
          "metadata": {
            "tags": []
          },
          "execution_count": 10
        }
      ]
    },
    {
      "cell_type": "code",
      "metadata": {
        "id": "KAl7EB8zJ-oG",
        "colab_type": "code",
        "colab": {
          "base_uri": "https://localhost:8080/",
          "height": 35
        },
        "outputId": "7430daf1-6694-49dc-9d95-9209948ac657"
      },
      "source": [
        "y[7]"
      ],
      "execution_count": null,
      "outputs": [
        {
          "output_type": "execute_result",
          "data": {
            "text/plain": [
              "3"
            ]
          },
          "metadata": {
            "tags": []
          },
          "execution_count": 11
        }
      ]
    },
    {
      "cell_type": "code",
      "metadata": {
        "id": "Xwz9T2KwKB2d",
        "colab_type": "code",
        "colab": {}
      },
      "source": [
        "import matplotlib\n",
        "import matplotlib.pyplot as plt"
      ],
      "execution_count": null,
      "outputs": []
    },
    {
      "cell_type": "code",
      "metadata": {
        "id": "kEVuQ9hoKPcZ",
        "colab_type": "code",
        "colab": {}
      },
      "source": [
        "some_digit=x[7]\n",
        "some_digit_image=some_digit.reshape(28,28) #split the x into 28*28"
      ],
      "execution_count": null,
      "outputs": []
    },
    {
      "cell_type": "code",
      "metadata": {
        "id": "_F4u7idkKeIX",
        "colab_type": "code",
        "colab": {
          "base_uri": "https://localhost:8080/",
          "height": 265
        },
        "outputId": "be75fdc5-2e8e-4656-9fc0-c4b8b5977cf8"
      },
      "source": [
        "plt.imshow(some_digit_image,cmap=matplotlib.cm.binary)#cmap=matplotlib.cm.binary for black and white\n",
        "plt.axis(\"off\") #for axis (not to disply)\n",
        "plt.show()"
      ],
      "execution_count": null,
      "outputs": [
        {
          "output_type": "display_data",
          "data": {
            "image/png": "[encoded data removed]",
            "text/plain": [
              "<Figure size 432x288 with 1 Axes>"
            ]
          },
          "metadata": {
            "tags": []
          }
        }
      ]
    },
    {
      "cell_type": "code",
      "metadata": {
        "id": "IbtYIJVuKvLf",
        "colab_type": "code",
        "colab": {}
      },
      "source": [
        "x_train,x_test=x[:60000],x[60000:]\n",
        "y_train,y_test=y[:60000],y[60000:]\n",
        "shuffle_index=np.random.permutation(len(x_train))\n",
        "x_train=x_train[shuffle_index]\n",
        "y_train=y_train[shuffle_index]"
      ],
      "execution_count": null,
      "outputs": []
    },
    {
      "cell_type": "code",
      "metadata": {
        "id": "7AOwSdjcTIAy",
        "colab_type": "code",
        "colab": {}
      },
      "source": [
        "y_train_3=(y_train==3)\n",
        "y_test_3=(y_test==3)"
      ],
      "execution_count": null,
      "outputs": []
    },
    {
      "cell_type": "code",
      "metadata": {
        "id": "NNpawuvOTmCt",
        "colab_type": "code",
        "colab": {
          "base_uri": "https://localhost:8080/",
          "height": 35
        },
        "outputId": "184288f1-9a3f-4b6a-a861-61b46f9ba1a6"
      },
      "source": [
        "y_train_3"
      ],
      "execution_count": null,
      "outputs": [
        {
          "output_type": "execute_result",
          "data": {
            "text/plain": [
              "array([False, False, False, ...,  True, False, False])"
            ]
          },
          "metadata": {
            "tags": []
          },
          "execution_count": 18
        }
      ]
    },
    {
      "cell_type": "code",
      "metadata": {
        "id": "ZsaXlbyUToIT",
        "colab_type": "code",
        "colab": {}
      },
      "source": [
        "class SGDClassifier:\n",
        "  def __init__(self,y=5,random_state=None):\n",
        "    print(random_state,y)\n",
        "  def fit(self,x,y):\n",
        "    print(\"Model is Classified\")"
      ],
      "execution_count": null,
      "outputs": []
    },
    {
      "cell_type": "code",
      "metadata": {
        "id": "6bTBRba9UMTN",
        "colab_type": "code",
        "colab": {
          "base_uri": "https://localhost:8080/",
          "height": 35
        },
        "outputId": "96f2df00-c3e8-4f89-dc51-7c28e8129513"
      },
      "source": [
        "sgd_clf=SGDClassifier(random_state=7)"
      ],
      "execution_count": null,
      "outputs": [
        {
          "output_type": "stream",
          "text": [
            "7 5\n"
          ],
          "name": "stdout"
        }
      ]
    },
    {
      "cell_type": "code",
      "metadata": {
        "id": "B-UTqumxUhff",
        "colab_type": "code",
        "colab": {
          "base_uri": "https://localhost:8080/",
          "height": 35
        },
        "outputId": "6a536279-211a-4445-ade6-0485787a2906"
      },
      "source": [
        "import warnings\n",
        "warnings.simplefilter(action=\"ignore\",category=FutureWarning)\n",
        "\n",
        "from sklearn.linear_model import SGDClassifier\n",
        "sgd_clf=SGDClassifier(random_state=0)\n",
        "sgd_clf.fit(x_train,y_train_3)\n",
        "sgd_clf.predict([x[9]])"
      ],
      "execution_count": null,
      "outputs": [
        {
          "output_type": "execute_result",
          "data": {
            "text/plain": [
              "array([False])"
            ]
          },
          "metadata": {
            "tags": []
          },
          "execution_count": 23
        }
      ]
    },
    {
      "cell_type": "code",
      "metadata": {
        "id": "WDFYJcTiWK2g",
        "colab_type": "code",
        "colab": {}
      },
      "source": [
        "y_pred=sgd_clf.predict(x_train)"
      ],
      "execution_count": null,
      "outputs": []
    },
    {
      "cell_type": "code",
      "metadata": {
        "id": "u0Tpk39JVQY1",
        "colab_type": "code",
        "colab": {
          "base_uri": "https://localhost:8080/",
          "height": 54
        },
        "outputId": "9a4894be-9b5a-456c-d926-7068f6e3668f"
      },
      "source": [
        "from sklearn import metrics\n",
        "cm=metrics.confusion_matrix(y_train_3,y_pred)\n",
        "#cm.metrices.accuracy_score(y_train_3,y_pred)\n",
        "cm"
      ],
      "execution_count": null,
      "outputs": [
        {
          "output_type": "execute_result",
          "data": {
            "text/plain": [
              "array([[51920,  1949],\n",
              "       [  571,  5560]])"
            ]
          },
          "metadata": {
            "tags": []
          },
          "execution_count": 27
        }
      ]
    },
    {
      "cell_type": "code",
      "metadata": {
        "id": "7FpopYfuYrfm",
        "colab_type": "code",
        "colab": {
          "base_uri": "https://localhost:8080/",
          "height": 35
        },
        "outputId": "7877fe8e-6301-4f7a-953a-05165132e5a0"
      },
      "source": [
        "metrics.accuracy_score(y_train_3,y_pred)"
      ],
      "execution_count": null,
      "outputs": [
        {
          "output_type": "execute_result",
          "data": {
            "text/plain": [
              "0.958"
            ]
          },
          "metadata": {
            "tags": []
          },
          "execution_count": 30
        }
      ]
    },
    {
      "cell_type": "markdown",
      "metadata": {
        "id": "_ME6_Q0uaDLC",
        "colab_type": "text"
      },
      "source": [
        "##CROSS VALIDATE"
      ]
    },
    {
      "cell_type": "code",
      "metadata": {
        "id": "uBnJNFKrZF60",
        "colab_type": "code",
        "colab": {}
      },
      "source": [
        "from sklearn.model_selection import cross_val_predict\n"
      ],
      "execution_count": null,
      "outputs": []
    },
    {
      "cell_type": "code",
      "metadata": {
        "id": "p4yaBrOOaIfm",
        "colab_type": "code",
        "colab": {}
      },
      "source": [
        "y_train_pred=cross_val_predict(sgd_clf,x_train,y_train_3,cv=3) #cv=fold\n"
      ],
      "execution_count": null,
      "outputs": []
    },
    {
      "cell_type": "code",
      "metadata": {
        "id": "vmMfxZ2XaaH3",
        "colab_type": "code",
        "colab": {
          "base_uri": "https://localhost:8080/",
          "height": 35
        },
        "outputId": "57944bee-5b6f-4536-9f46-693acfcf7788"
      },
      "source": [
        "len(y_train_pred)"
      ],
      "execution_count": null,
      "outputs": [
        {
          "output_type": "execute_result",
          "data": {
            "text/plain": [
              "60000"
            ]
          },
          "metadata": {
            "tags": []
          },
          "execution_count": 33
        }
      ]
    },
    {
      "cell_type": "code",
      "metadata": {
        "id": "SNfGMdN6akDX",
        "colab_type": "code",
        "colab": {
          "base_uri": "https://localhost:8080/",
          "height": 35
        },
        "outputId": "fe1bce6d-b93d-43e7-d5ab-312bf8b36e58"
      },
      "source": [
        "metrics.accuracy_score(y_train_3,y_train_pred)"
      ],
      "execution_count": null,
      "outputs": [
        {
          "output_type": "execute_result",
          "data": {
            "text/plain": [
              "0.9627166666666667"
            ]
          },
          "metadata": {
            "tags": []
          },
          "execution_count": 34
        }
      ]
    },
    {
      "cell_type": "markdown",
      "metadata": {
        "id": "3VP4h-bTd0m3",
        "colab_type": "text"
      },
      "source": [
        "*DECISION FUNCTION*"
      ]
    },
    {
      "cell_type": "code",
      "metadata": {
        "id": "gyaiMXykazEf",
        "colab_type": "code",
        "colab": {
          "base_uri": "https://localhost:8080/",
          "height": 35
        },
        "outputId": "c24255af-a688-4221-ec11-5473638f7a32"
      },
      "source": [
        "y_score=sgd_clf.decision_function([x[4]])\n",
        "y_score"
      ],
      "execution_count": null,
      "outputs": [
        {
          "output_type": "execute_result",
          "data": {
            "text/plain": [
              "array([-7829.47019449])"
            ]
          },
          "metadata": {
            "tags": []
          },
          "execution_count": 36
        }
      ]
    },
    {
      "cell_type": "code",
      "metadata": {
        "id": "V4iXtNc6gDbv",
        "colab_type": "code",
        "colab": {}
      },
      "source": [
        "y_score=cross_val_predict(sgd_clf,x_train,y_train_3,cv=3,) #cv=fold\n"
      ],
      "execution_count": null,
      "outputs": []
    },
    {
      "cell_type": "code",
      "metadata": {
        "id": "dmQt4lYyiTvh",
        "colab_type": "code",
        "colab": {}
      },
      "source": [
        "len(y_train)"
      ],
      "execution_count": null,
      "outputs": []
    },
    {
      "cell_type": "code",
      "metadata": {
        "id": "4By1ivx2iTay",
        "colab_type": "code",
        "colab": {}
      },
      "source": [
        "y_score"
      ],
      "execution_count": null,
      "outputs": []
    },
    {
      "cell_type": "markdown",
      "metadata": {
        "id": "RQ5PHAjHiMH2",
        "colab_type": "text"
      },
      "source": [
        "RECIEVER OPERATING CURVE(ROC)"
      ]
    },
    {
      "cell_type": "code",
      "metadata": {
        "id": "Zv6PR-iJiSDx",
        "colab_type": "code",
        "colab": {}
      },
      "source": [
        "plt.plot(fpr,tpr)\n",
        "plt.xlabel(\"False Positive Rate\")\n",
        "plt.ylabel(\"True Positive Rate\")"
      ],
      "execution_count": null,
      "outputs": []
    },
    {
      "cell_type": "markdown",
      "metadata": {
        "id": "wWCRvm7ji-C5",
        "colab_type": "text"
      },
      "source": [
        "#MULTI CLASS CLASSIFIER"
      ]
    },
    {
      "cell_type": "code",
      "metadata": {
        "id": "wm2AJ_kpjAR1",
        "colab_type": "code",
        "colab": {}
      },
      "source": [
        ""
      ],
      "execution_count": null,
      "outputs": []
    }
  ]
}